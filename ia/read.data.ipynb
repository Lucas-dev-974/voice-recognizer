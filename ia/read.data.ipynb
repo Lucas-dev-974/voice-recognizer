{
 "cells": [
  {
   "cell_type": "code",
   "execution_count": 1,
   "metadata": {},
   "outputs": [
    {
     "data": {
      "text/plain": [
       "0        a2e8e1e1cc74d08c92a53d7b9ff84e077eb90410edd85b...\n",
       "39       b097b34affce552a15aa46b230d36b33fe3e129339e7e1...\n",
       "80       0db436d79939c80652cff5594757cf7a702d90321a100a...\n",
       "178      50dce1af6407f76888e2aa9638fbab08b94ce51acce019...\n",
       "236      d7ccc43889e4a489ec744ba35cb2752b168fab4ac99a96...\n",
       "                               ...                        \n",
       "13383    6ee71f12c50612a06eeac6b3eb87d7b1cd1440b1ae144d...\n",
       "14930    833dbf8db3b51edb501a34853f086ec3ee5212f97b03ab...\n",
       "16430    5796619efc6fd2fb8e28212f444fea1970228fdfb127e3...\n",
       "17090    049331a0346569d9b41738e0f31f495d097afc16eb54ef...\n",
       "18469    c855e9ec9c252347589bda2eb0859d133cb2a11016ea61...\n",
       "Name: client_id, Length: 78, dtype: object"
      ]
     },
     "execution_count": 1,
     "metadata": {},
     "output_type": "execute_result"
    }
   ],
   "source": [
    "import pandas as pd\n",
    "\n",
    "# Spécifiez le chemin du fichier TSV\n",
    "fichier_tsv = './dataset/train.tsv'\n",
    "\n",
    "dataframe = pd.read_table(fichier_tsv)\n",
    "# print(dataframe[\"client_id\"])\n",
    "\n",
    "dataframe.drop_duplicates(subset=[\"client_id\"])\n",
    "dataframe[\"client_id\"].drop_duplicates()\n"
   ]
  }
 ],
 "metadata": {
  "kernelspec": {
   "display_name": ".venv",
   "language": "python",
   "name": "python3"
  },
  "language_info": {
   "codemirror_mode": {
    "name": "ipython",
    "version": 3
   },
   "file_extension": ".py",
   "mimetype": "text/x-python",
   "name": "python",
   "nbconvert_exporter": "python",
   "pygments_lexer": "ipython3",
   "version": "3.11.8"
  }
 },
 "nbformat": 4,
 "nbformat_minor": 2
}
