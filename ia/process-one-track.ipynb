{
 "cells": [
  {
   "cell_type": "code",
   "execution_count": 7,
   "metadata": {},
   "outputs": [],
   "source": [
    "import pandas as pd\n",
    "import librosa\n",
    "import numpy as np\n",
    "from fn import extract_segments\n",
    "\n",
    "audio_file = \"./dataset/data/one_data/0a2e2822c9750c5c5dc3998f0d70374b4b53a2277a6eba266ae882eb56e26e1e5e8d64cc116028f7ab214de4efe3631baadc4ef1dc385b8c37658ca115ecbeab.mp3\"\n",
    "\n",
    "def segment_audio(audio_file):\n",
    "    audio, sr = librosa.load(audio_file)\n",
    "\n",
    "    # Découper l'audio en segments de 1 seconde\n",
    "    segments = extract_segments(audio, sr)\n",
    "\n",
    "    # Extraction des caractéristiques pour chaque segment\n",
    "    features = []\n",
    "    index = 0\n",
    "    for segment in segments:\n",
    "        segment_features = extract_feature_from_segment(segment, index)\n",
    "        features.append(segment_features)\n",
    "        index += 1\n",
    "        \n",
    "    return segments, features"
   ]
  },
  {
   "cell_type": "code",
   "execution_count": 8,
   "metadata": {},
   "outputs": [],
   "source": [
    "def extract_feature_from_segment(segment, segment_count):\n",
    "    features = []\n",
    "    \n",
    "    features.append(segment_count)\n",
    "\n",
    "    chroma_stft = librosa.feature.chroma_stft(y=segment)\n",
    "    features.append(np.mean(chroma_stft))\n",
    "    features.append(np.var(chroma_stft))\n",
    "\n",
    "    rms = librosa.feature.rms(y=segment)\n",
    "    features.append(np.mean(rms))\n",
    "    features.append(np.var(rms))\n",
    "\n",
    "    # Calcul de la moyenne du Spectral centroid\n",
    "\n",
    "    # spectral_centroids = librosa.feature.spectral_centroid(y=segment)[0]\n",
    "    spectral_centroids = librosa.feature.spectral_centroid(y=segment)\n",
    "    features.append(np.mean(spectral_centroids))\n",
    "    features.append(np.var(spectral_centroids))\n",
    "\n",
    "    spectral_bandwidth = librosa.feature.spectral_bandwidth(y=segment)\n",
    "    features.append(np.mean(spectral_bandwidth))\n",
    "    features.append(np.var(spectral_bandwidth))\n",
    "\n",
    "    rolloff = librosa.feature.spectral_rolloff(y=segment)\n",
    "    features.append(np.mean(rolloff))\n",
    "    features.append(np.var(rolloff))\n",
    "\n",
    "    zcr = librosa.feature.zero_crossing_rate(y=segment)\n",
    "    features.append(np.mean(zcr))\n",
    "    features.append(np.var(zcr))\n",
    "\n",
    "    harmony = librosa.effects.harmonic(y=segment)\n",
    "    features.append(np.mean(harmony))\n",
    "    features.append(np.var(harmony))\n",
    "\n",
    "    tempo = librosa.feature.tempo(y=segment)\n",
    "    features.append(tempo[0])\n",
    "\n",
    "    # Calcul des moyennes des MFCC\n",
    "\n",
    "    mfcc = librosa.feature.mfcc(y=segment)\n",
    "\n",
    "    for x in mfcc:\n",
    "        features.append(np.mean(x))\n",
    "        features.append(np.var(x))\n",
    "    \n",
    "    return features"
   ]
  },
  {
   "cell_type": "code",
   "execution_count": 9,
   "metadata": {},
   "outputs": [
    {
     "ename": "NameError",
     "evalue": "name 'sr' is not defined",
     "output_type": "error",
     "traceback": [
      "\u001b[0;31m---------------------------------------------------------------------------\u001b[0m",
      "\u001b[0;31mNameError\u001b[0m                                 Traceback (most recent call last)",
      "Cell \u001b[0;32mIn[9], line 1\u001b[0m\n\u001b[0;32m----> 1\u001b[0m segments, features \u001b[38;5;241m=\u001b[39m \u001b[43msegment_audio\u001b[49m\u001b[43m(\u001b[49m\u001b[43maudio_file\u001b[49m\u001b[43m)\u001b[49m\n\u001b[1;32m      2\u001b[0m \u001b[38;5;28mprint\u001b[39m(\u001b[38;5;124m\"\u001b[39m\u001b[38;5;124mfeatures:\u001b[39m\u001b[38;5;124m\"\u001b[39m, features)\n\u001b[1;32m      3\u001b[0m \u001b[38;5;28mprint\u001b[39m(\u001b[38;5;124m\"\u001b[39m\u001b[38;5;124mfeatures len:\u001b[39m\u001b[38;5;124m\"\u001b[39m, \u001b[38;5;28mlen\u001b[39m(features))\n",
      "Cell \u001b[0;32mIn[7], line 18\u001b[0m, in \u001b[0;36msegment_audio\u001b[0;34m(audio_file)\u001b[0m\n\u001b[1;32m     15\u001b[0m segment_length \u001b[38;5;241m=\u001b[39m \u001b[38;5;28mint\u001b[39m(segment_duration \u001b[38;5;241m*\u001b[39m sr)\n\u001b[1;32m     17\u001b[0m \u001b[38;5;66;03m# Découper l'audio en segments de 1 seconde\u001b[39;00m\n\u001b[0;32m---> 18\u001b[0m segments \u001b[38;5;241m=\u001b[39m \u001b[43mextract_segments\u001b[49m\u001b[43m(\u001b[49m\u001b[43my\u001b[49m\u001b[43m)\u001b[49m\n\u001b[1;32m     20\u001b[0m \u001b[38;5;66;03m# Extraction des caractéristiques pour chaque segment\u001b[39;00m\n\u001b[1;32m     21\u001b[0m features \u001b[38;5;241m=\u001b[39m []\n",
      "File \u001b[0;32m~/PersonalDEV/voice-recognizer/ia/fn.py:6\u001b[0m, in \u001b[0;36mextract_segments\u001b[0;34m(audio)\u001b[0m\n\u001b[1;32m      3\u001b[0m segment_duration \u001b[38;5;241m=\u001b[39m \u001b[38;5;241m1\u001b[39m\n\u001b[1;32m      5\u001b[0m \u001b[38;5;66;03m# Convertir la durée du segment en nombre d'échantillons\u001b[39;00m\n\u001b[0;32m----> 6\u001b[0m segment_length \u001b[38;5;241m=\u001b[39m \u001b[38;5;28mint\u001b[39m(segment_duration \u001b[38;5;241m*\u001b[39m \u001b[43msr\u001b[49m)\n\u001b[1;32m      8\u001b[0m \u001b[38;5;66;03m# Découper l'audio en segments de 1 seconde\u001b[39;00m\n\u001b[1;32m      9\u001b[0m segments \u001b[38;5;241m=\u001b[39m [y[i : i \u001b[38;5;241m+\u001b[39m segment_length] \u001b[38;5;28;01mfor\u001b[39;00m i \u001b[38;5;129;01min\u001b[39;00m \u001b[38;5;28mrange\u001b[39m(\u001b[38;5;241m0\u001b[39m, \u001b[38;5;28mlen\u001b[39m(y), segment_length)]\n",
      "\u001b[0;31mNameError\u001b[0m: name 'sr' is not defined"
     ]
    }
   ],
   "source": [
    "segments, features = segment_audio(audio_file)\n",
    "print(\"features:\", features)\n",
    "print(\"features len:\", len(features))\n",
    "print(\"len segments:\", len(segments))\n",
    "# Création d'un DataFrame pandas à partir des caractéristiques\n",
    "columns = [f'feature_{i}' for i in range(len(features[0]))]\n",
    "df = pd.DataFrame(features, columns=columns)\n",
    "\n",
    "print(segments)\n",
    "df\n"
   ]
  }
 ],
 "metadata": {
  "kernelspec": {
   "display_name": ".venv",
   "language": "python",
   "name": "python3"
  },
  "language_info": {
   "codemirror_mode": {
    "name": "ipython",
    "version": 3
   },
   "file_extension": ".py",
   "mimetype": "text/x-python",
   "name": "python",
   "nbconvert_exporter": "python",
   "pygments_lexer": "ipython3",
   "version": "3.11.6"
  }
 },
 "nbformat": 4,
 "nbformat_minor": 2
}
